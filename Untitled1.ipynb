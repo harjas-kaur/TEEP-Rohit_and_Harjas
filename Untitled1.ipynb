{
 "cells": [
  {
   "cell_type": "code",
   "execution_count": 1,
   "metadata": {},
   "outputs": [
    {
     "name": "stderr",
     "output_type": "stream",
     "text": [
      "2024-06-18 17:19:01.261922: I external/local_tsl/tsl/cuda/cudart_stub.cc:32] Could not find cuda drivers on your machine, GPU will not be used.\n",
      "2024-06-18 17:19:01.314207: I external/local_tsl/tsl/cuda/cudart_stub.cc:32] Could not find cuda drivers on your machine, GPU will not be used.\n",
      "2024-06-18 17:19:01.591593: I tensorflow/core/platform/cpu_feature_guard.cc:210] This TensorFlow binary is optimized to use available CPU instructions in performance-critical operations.\n",
      "To enable the following instructions: AVX2 AVX512F FMA, in other operations, rebuild TensorFlow with the appropriate compiler flags.\n",
      "2024-06-18 17:19:02.983631: W tensorflow/compiler/tf2tensorrt/utils/py_utils.cc:38] TF-TRT Warning: Could not find TensorRT\n",
      "/home/ai1/Rohit/miniconda/envs/rohitenv/lib/python3.11/site-packages/tqdm/auto.py:21: TqdmWarning: IProgress not found. Please update jupyter and ipywidgets. See https://ipywidgets.readthedocs.io/en/stable/user_install.html\n",
      "  from .autonotebook import tqdm as notebook_tqdm\n"
     ]
    }
   ],
   "source": [
    "import os\n",
    "from PIL import Image\n",
    "import numpy as np\n",
    "import matplotlib.pyplot as plt\n",
    "import tensorflow as tf\n",
    "from lime import lime_image\n",
    "from skimage.segmentation import mark_boundaries"
   ]
  },
  {
   "cell_type": "code",
   "execution_count": 2,
   "metadata": {},
   "outputs": [
    {
     "name": "stdout",
     "output_type": "stream",
     "text": [
      "Requirement already satisfied: lime in ./miniconda/envs/rohitenv/lib/python3.11/site-packages (0.2.0.1)\n",
      "Requirement already satisfied: matplotlib in ./miniconda/envs/rohitenv/lib/python3.11/site-packages (from lime) (3.8.4)\n",
      "Requirement already satisfied: numpy in ./miniconda/envs/rohitenv/lib/python3.11/site-packages (from lime) (1.26.4)\n",
      "Requirement already satisfied: scipy in ./miniconda/envs/rohitenv/lib/python3.11/site-packages (from lime) (1.13.1)\n",
      "Requirement already satisfied: tqdm in ./miniconda/envs/rohitenv/lib/python3.11/site-packages (from lime) (4.66.4)\n",
      "Requirement already satisfied: scikit-learn>=0.18 in ./miniconda/envs/rohitenv/lib/python3.11/site-packages (from lime) (1.5.0)\n",
      "Requirement already satisfied: scikit-image>=0.12 in ./miniconda/envs/rohitenv/lib/python3.11/site-packages (from lime) (0.23.2)\n",
      "Requirement already satisfied: networkx>=2.8 in ./miniconda/envs/rohitenv/lib/python3.11/site-packages (from scikit-image>=0.12->lime) (3.3)\n",
      "Requirement already satisfied: pillow>=9.1 in ./miniconda/envs/rohitenv/lib/python3.11/site-packages (from scikit-image>=0.12->lime) (10.3.0)\n",
      "Requirement already satisfied: imageio>=2.33 in ./miniconda/envs/rohitenv/lib/python3.11/site-packages (from scikit-image>=0.12->lime) (2.34.1)\n",
      "Requirement already satisfied: tifffile>=2022.8.12 in ./miniconda/envs/rohitenv/lib/python3.11/site-packages (from scikit-image>=0.12->lime) (2024.5.22)\n",
      "Requirement already satisfied: packaging>=21 in ./miniconda/envs/rohitenv/lib/python3.11/site-packages (from scikit-image>=0.12->lime) (24.0)\n",
      "Requirement already satisfied: lazy-loader>=0.4 in ./miniconda/envs/rohitenv/lib/python3.11/site-packages (from scikit-image>=0.12->lime) (0.4)\n",
      "Requirement already satisfied: joblib>=1.2.0 in ./miniconda/envs/rohitenv/lib/python3.11/site-packages (from scikit-learn>=0.18->lime) (1.4.2)\n",
      "Requirement already satisfied: threadpoolctl>=3.1.0 in ./miniconda/envs/rohitenv/lib/python3.11/site-packages (from scikit-learn>=0.18->lime) (3.5.0)\n",
      "Requirement already satisfied: contourpy>=1.0.1 in ./miniconda/envs/rohitenv/lib/python3.11/site-packages (from matplotlib->lime) (1.2.1)\n",
      "Requirement already satisfied: cycler>=0.10 in ./miniconda/envs/rohitenv/lib/python3.11/site-packages (from matplotlib->lime) (0.12.1)\n",
      "Requirement already satisfied: fonttools>=4.22.0 in ./miniconda/envs/rohitenv/lib/python3.11/site-packages (from matplotlib->lime) (4.53.0)\n",
      "Requirement already satisfied: kiwisolver>=1.3.1 in ./miniconda/envs/rohitenv/lib/python3.11/site-packages (from matplotlib->lime) (1.4.5)\n",
      "Requirement already satisfied: pyparsing>=2.3.1 in ./miniconda/envs/rohitenv/lib/python3.11/site-packages (from matplotlib->lime) (3.1.2)\n",
      "Requirement already satisfied: python-dateutil>=2.7 in ./miniconda/envs/rohitenv/lib/python3.11/site-packages (from matplotlib->lime) (2.9.0.post0)\n",
      "Requirement already satisfied: six>=1.5 in ./miniconda/envs/rohitenv/lib/python3.11/site-packages (from python-dateutil>=2.7->matplotlib->lime) (1.16.0)\n",
      "Note: you may need to restart the kernel to use updated packages.\n"
     ]
    }
   ],
   "source": [
    "pip install lime"
   ]
  },
  {
   "cell_type": "code",
   "execution_count": 3,
   "metadata": {},
   "outputs": [],
   "source": [
    "os.environ['TF_XLA_FLAGS'] = '--tf_xla_enable_xla_devices=false'"
   ]
  },
  {
   "cell_type": "code",
   "execution_count": 4,
   "metadata": {},
   "outputs": [],
   "source": [
    "from tensorflow.keras import datasets, layers, models\n",
    "import matplotlib.pyplot as plt"
   ]
  },
  {
   "cell_type": "code",
   "execution_count": 5,
   "metadata": {},
   "outputs": [],
   "source": [
    "from tensorflow import keras"
   ]
  },
  {
   "cell_type": "code",
   "execution_count": 6,
   "metadata": {},
   "outputs": [
    {
     "name": "stderr",
     "output_type": "stream",
     "text": [
      "2024-06-18 17:19:08.399053: W tensorflow/core/common_runtime/gpu/gpu_device.cc:2251] Cannot dlopen some GPU libraries. Please make sure the missing libraries mentioned above are installed properly if you would like to use GPU. Follow the guide at https://www.tensorflow.org/install/gpu for how to download and setup the required libraries for your platform.\n",
      "Skipping registering GPU devices...\n",
      "WARNING:absl:Compiled the loaded model, but the compiled metrics have yet to be built. `model.compile_metrics` will be empty until you train or evaluate the model.\n"
     ]
    }
   ],
   "source": [
    "model = keras.models.load_model(\"better_classification.h5\")"
   ]
  },
  {
   "cell_type": "code",
   "execution_count": 7,
   "metadata": {},
   "outputs": [],
   "source": [
    "classes = [\"damaged_infrastructure\" , \"damaged_nature\" , \"fire\" , \"flood\" , \"human_damage\" , \"non_damage\"]"
   ]
  },
  {
   "cell_type": "code",
   "execution_count": 8,
   "metadata": {},
   "outputs": [],
   "source": [
    "from tensorflow.keras.preprocessing.image import img_to_array\n",
    "\n",
    "def classify_image(model, image_path, target_size=(128, 128)):\n",
    "    try:\n",
    "        # Open the image file\n",
    "        img = Image.open(image_path)\n",
    "        # Resize the image to match the input shape expected by the model\n",
    "        img = img.resize(target_size)\n",
    "        # Convert the image to an array\n",
    "        img_array = img_to_array(img)\n",
    "        # Normalize the image array\n",
    "        img_array = img_array / 255.0\n",
    "        # Expand dimensions to match the input shape (batch_size, height, width, channels)\n",
    "        img_array = np.expand_dims(img_array, axis=0)\n",
    "        \n",
    "        # Make predictions using the model\n",
    "        predictions = model.predict(img_array)\n",
    "        # Get the index of the class with the highest confidence\n",
    "        predicted_class = np.argmax(predictions, axis=1)\n",
    "        \n",
    "        return predicted_class[0]\n",
    "    except Exception as e:\n",
    "        print(f\"Error processing image {image_path}: {e}\")\n",
    "        return None"
   ]
  },
  {
   "cell_type": "code",
   "execution_count": 9,
   "metadata": {},
   "outputs": [],
   "source": [
    "from tensorflow.keras.preprocessing import image"
   ]
  },
  {
   "cell_type": "code",
   "execution_count": 10,
   "metadata": {},
   "outputs": [],
   "source": [
    "def process_image( image_path):\n",
    "    img = image.load_img(image_path, target_size=(128,128))\n",
    "    img_array = image.img_to_array(img)\n",
    "    img_array = np.expand_dims(img_array, axis=0)\n",
    "    img_array /= 255.0\n",
    "    return img_array"
   ]
  },
  {
   "cell_type": "code",
   "execution_count": 11,
   "metadata": {},
   "outputs": [],
   "source": [
    "def compute_saliency_map(model, img_array, class_index):\n",
    "    img_tensor = tf.convert_to_tensor(img_array, dtype=tf.float32)\n",
    "    with tf.GradientTape() as tape:\n",
    "        tape.watch(img_tensor)\n",
    "        preds = model(img_tensor)\n",
    "        loss = preds[:, class_index]\n",
    "\n",
    "    grads = tape.gradient(loss, img_tensor)\n",
    "    grads = tf.reduce_mean(grads, axis=-1)[0]\n",
    "    return grads.numpy()"
   ]
  },
  {
   "cell_type": "code",
   "execution_count": 13,
   "metadata": {},
   "outputs": [],
   "source": [
    "explainer = lime_image.LimeImageExplainer()"
   ]
  },
  {
   "cell_type": "code",
   "execution_count": 14,
   "metadata": {},
   "outputs": [],
   "source": [
    "def predict_fn(images):\n",
    "    images = np.array(images)\n",
    "    predictions = model.predict(images)\n",
    "    return predictions"
   ]
  },
  {
   "cell_type": "code",
   "execution_count": 15,
   "metadata": {},
   "outputs": [],
   "source": [
    "def lime(image , ):\n",
    "    explanation = explainer.explain_instance(\n",
    "    image[0].astype('double'),  # Convert the image to the format expected by LIME\n",
    "    predict_fn,\n",
    "    top_labels=5,\n",
    "    hide_color=0,\n",
    "    num_samples=1000\n",
    "    )\n",
    "    top_label = explanation.top_labels[0]\n",
    "    temp, mask = explanation.get_image_and_mask(\n",
    "    top_label,\n",
    "    positive_only=True,  # Show only positive regions\n",
    "    num_features=5,\n",
    "    hide_rest=False\n",
    "    )\n",
    "    # Apply the positive mask and color overlay\n",
    "    boundary_img = mark_boundaries(image[0], mask, outline_color=(0, 1, 0))  # Green outline for positive regions\n",
    "    return boundary_img\n"
   ]
  },
  {
   "cell_type": "code",
   "execution_count": 24,
   "metadata": {},
   "outputs": [],
   "source": [
    "def show_lime(image_path):\n",
    "    img_array = process_image(image_path)\n",
    "    boundary = lime(img_array)\n",
    "    # Display the result\n",
    "    plt.figure(figsize=(4,4))\n",
    "    plt.imshow(boundary)\n",
    "    plt.title('Positive Regions , using LIME')\n",
    "    plt.axis('off')\n",
    "    plt.show()"
   ]
  },
  {
   "cell_type": "code",
   "execution_count": 34,
   "metadata": {},
   "outputs": [],
   "source": [
    "def predict_model(model, image_path):\n",
    "    x = classify_image(model, image_path, target_size=(128, 128))\n",
    "    print(classes[x])\n"
   ]
  },
  {
   "cell_type": "code",
   "execution_count": 26,
   "metadata": {},
   "outputs": [],
   "source": [
    "def original_image(image_path):\n",
    "    img = image.load_img(image_path, target_size=(128,128))\n",
    "    plt.figure(figsize=(6, 6))\n",
    "    plt.imshow(img)\n",
    "    plt.title('Original Image')\n",
    "    "
   ]
  },
  {
   "cell_type": "code",
   "execution_count": 28,
   "metadata": {},
   "outputs": [],
   "source": [
    "def saliency_map(image_path):\n",
    "    img_array = process_image(image_path)\n",
    "    preds = model.predict(img_array)\n",
    "    class_index = np.argmax(preds[0])\n",
    "    smap = compute_saliency_map(model, img_array, class_index)\n",
    "    plt.figure(figsize=(6, 6))\n",
    "    plt.imshow(smap, cmap='jet')\n",
    "    plt.colorbar()\n",
    "    plt.title('Saliency Map')\n"
   ]
  },
  {
   "cell_type": "code",
   "execution_count": null,
   "metadata": {},
   "outputs": [],
   "source": []
  }
 ],
 "metadata": {
  "kernelspec": {
   "display_name": "rohitenv",
   "language": "python",
   "name": "rohitenv"
  },
  "language_info": {
   "codemirror_mode": {
    "name": "ipython",
    "version": 3
   },
   "file_extension": ".py",
   "mimetype": "text/x-python",
   "name": "python",
   "nbconvert_exporter": "python",
   "pygments_lexer": "ipython3",
   "version": "3.11.9"
  }
 },
 "nbformat": 4,
 "nbformat_minor": 2
}
